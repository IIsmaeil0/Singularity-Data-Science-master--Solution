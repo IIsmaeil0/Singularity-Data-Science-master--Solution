{
 "cells": [
  {
   "cell_type": "code",
   "execution_count": null,
   "metadata": {},
   "outputs": [],
   "source": [
    "import os \n",
    "def main(): \n",
    "\n",
    "\tfor count, filename in enumerate(os.listdir(\"xyz\")): \n",
    "\t\tdst =\"Hostel\" + str(count) + \".jpg\"\n",
    "\t\tsrc ='xyz'+ filename \n",
    "\t\tdst ='xyz'+ dst \n",
    "\t\t\n",
    "\t\t# rename() function will \n",
    "\t\t# rename all the files \n",
    "\t\tos.rename(src, dst) \n",
    "\n",
    "# Driver Code \n",
    "if __name__ == '__main__': \n",
    "\t\n",
    "\t# Calling main() function \n",
    "\tmain() \n"
   ]
  }
 ],
 "metadata": {
  "kernelspec": {
   "display_name": "Python 3",
   "language": "python",
   "name": "python3"
  },
  "language_info": {
   "codemirror_mode": {
    "name": "ipython",
    "version": 3
   },
   "file_extension": ".py",
   "mimetype": "text/x-python",
   "name": "python",
   "nbconvert_exporter": "python",
   "pygments_lexer": "ipython3",
   "version": "3.7.6"
  }
 },
 "nbformat": 4,
 "nbformat_minor": 4
}
